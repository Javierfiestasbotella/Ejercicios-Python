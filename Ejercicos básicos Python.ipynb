{
  "nbformat": 4,
  "nbformat_minor": 0,
  "metadata": {
    "colab": {
      "provenance": [],
      "authorship_tag": "ABX9TyOUl106q2F8/8JCcPbsaebC",
      "include_colab_link": true
    },
    "kernelspec": {
      "name": "python3",
      "display_name": "Python 3"
    },
    "language_info": {
      "name": "python"
    }
  },
  "cells": [
    {
      "cell_type": "markdown",
      "metadata": {
        "id": "view-in-github",
        "colab_type": "text"
      },
      "source": [
        "<a href=\"https://colab.research.google.com/github/Javierfiestasbotella/Ahorcado/blob/master/Ejercicos%20b%C3%A1sicos%20Python.ipynb\" target=\"_parent\"><img src=\"https://colab.research.google.com/assets/colab-badge.svg\" alt=\"Open In Colab\"/></a>"
      ]
    },
    {
      "cell_type": "markdown",
      "source": [
        "0- Crea un programa que pida introducir un numero de elementos y los almacene en una lista para saber la media de los numeros introducidos."
      ],
      "metadata": {
        "id": "eYH-OPDvFfcT"
      }
    },
    {
      "cell_type": "code",
      "source": [
        "longitud = int(input('Introduce cantidad de numeros a introducir: '))\n",
        "print(sum([int(input(f'Introduce el numero {veces+1}: '))for veces in range(longitud)])/longitud)\n"
      ],
      "metadata": {
        "colab": {
          "base_uri": "https://localhost:8080/"
        },
        "id": "-Yw_L9p03wTU",
        "outputId": "1bf04a68-97a7-4e5e-e93b-217db9fbf9e9"
      },
      "execution_count": null,
      "outputs": [
        {
          "output_type": "stream",
          "name": "stdout",
          "text": [
            "Introduce el numero 1: 5\n",
            "Introduce el numero 2: 3\n",
            "Introduce el numero 3: 1\n",
            "3.0\n"
          ]
        }
      ]
    },
    {
      "cell_type": "markdown",
      "source": [
        "1- Definir una función max() que tome como argumento dos números y devuelva el mayor de ellos.\n",
        "(Es cierto que python tiene una función max() incorporada, pero hacerla nosotros mismos es un\n",
        "muy buen ejercicio"
      ],
      "metadata": {
        "id": "5oMv4sxQw_8s"
      }
    },
    {
      "cell_type": "code",
      "source": [
        "def funcion_max(n1,n2):\n",
        "  try:\n",
        "    while n1!=n2:\n",
        "      if n1>n2:\n",
        "        return n1\n",
        "      return n2\n",
        "    return 'Los números son iguales'\n",
        "  except (NameError, ValueError, TypeError):\n",
        "        return 'Error: Los argumentos introducidos no son válidos'"
      ],
      "metadata": {
        "colab": {
          "base_uri": "https://localhost:8080/"
        },
        "id": "acwGhWGSxB-N",
        "outputId": "77bf0532-69e0-4ff6-c3e1-e9bad9c03d62"
      },
      "execution_count": null,
      "outputs": [
        {
          "output_type": "stream",
          "name": "stdout",
          "text": [
            "Error: Los argumentos introducidos no son válidos\n"
          ]
        }
      ]
    },
    {
      "cell_type": "markdown",
      "source": [
        "2- Definir una función max_de_tres(), que tome tres números como argumentos y devuelva el\n",
        "mayor de ellos."
      ],
      "metadata": {
        "id": "nvvFh92o2CPr"
      }
    },
    {
      "cell_type": "code",
      "source": [
        "def max_de_tres(n1,n2,n3):\n",
        "  return funcion_max(funcion_max(n1,n2),n3)\n"
      ],
      "metadata": {
        "colab": {
          "base_uri": "https://localhost:8080/"
        },
        "id": "NdB0gjpZ2Knx",
        "outputId": "c2598902-70a1-45d5-f2b4-9f9d4862db3b"
      },
      "execution_count": null,
      "outputs": [
        {
          "output_type": "stream",
          "name": "stdout",
          "text": [
            "26\n"
          ]
        }
      ]
    },
    {
      "cell_type": "markdown",
      "source": [
        "3- Definir una función que calcule la longitud de una lista o una cadena dada. (Es cierto que python\n",
        "tiene la función len() incorporada, pero escribirla por nosotros mismos resulta un muy buen\n",
        "ejercicio.\n"
      ],
      "metadata": {
        "id": "jlM3uc2A38_N"
      }
    },
    {
      "cell_type": "code",
      "source": [
        "def calcula_longitud(l):\n",
        "  contador=0\n",
        "  for elemento in l:\n",
        "    contador+=1\n",
        "  return contador"
      ],
      "metadata": {
        "colab": {
          "base_uri": "https://localhost:8080/"
        },
        "id": "PJyPXZSO4BQo",
        "outputId": "54814d2f-985a-4d10-b57b-c19d20f0f5a8"
      },
      "execution_count": null,
      "outputs": [
        {
          "output_type": "stream",
          "name": "stdout",
          "text": [
            "8\n"
          ]
        }
      ]
    },
    {
      "cell_type": "markdown",
      "source": [
        "4- Escribir una función que tome un carácter y devuelva True si es una vocal, de lo contrario\n",
        "devuelve False"
      ],
      "metadata": {
        "id": "8owqkpHu5T3y"
      }
    },
    {
      "cell_type": "code",
      "source": [
        "def vocal(v):\n",
        "  try:\n",
        "    if v in 'AEIOUaeiou':\n",
        "      return True\n",
        "    else:\n",
        "      return False\n",
        "  except TypeError:\n",
        "    return 'Debe introducir un argumento de tipo string'\n"
      ],
      "metadata": {
        "colab": {
          "base_uri": "https://localhost:8080/"
        },
        "id": "55Jy8qQl5ZE-",
        "outputId": "334cd065-25fd-473a-c13f-5886eb9d5a42"
      },
      "execution_count": null,
      "outputs": [
        {
          "output_type": "stream",
          "name": "stdout",
          "text": [
            "Debe introducir un argumento de tipo string\n"
          ]
        }
      ]
    },
    {
      "cell_type": "markdown",
      "source": [
        "5- Escribir una funcion sum() y una función multip() que sumen y multipliquen respectivamente\n",
        "todos los números de una lista. Por ejemplo: sum([1,2,3,4]) debería devolver 10 y multip([1,2,3,4])\n",
        "debería devolver 24."
      ],
      "metadata": {
        "id": "Puj8LfgI61sy"
      }
    },
    {
      "cell_type": "code",
      "source": [
        "def funcion_sum(l):\n",
        "  try:\n",
        "    resultado=0\n",
        "    for n in l:\n",
        "      resultado+=n\n",
        "    return resultado\n",
        "  except TypeError:\n",
        "    return 'La lista debe ser de tipo integer'\n",
        "\n",
        "def funcion_multi(l):\n",
        "  try:\n",
        "    resultado=1\n",
        "    for n in l:\n",
        "      resultado*=n\n",
        "    return resultado\n",
        "  except TypeError:\n",
        "    return 'La lista debe ser de tipo integer'"
      ],
      "metadata": {
        "colab": {
          "base_uri": "https://localhost:8080/"
        },
        "id": "bQpb_iMG647G",
        "outputId": "5bf47132-2716-4ede-9352-50c32019a6be"
      },
      "execution_count": null,
      "outputs": [
        {
          "output_type": "stream",
          "name": "stdout",
          "text": [
            "La lista deben ser de tipo integer\n",
            "24\n"
          ]
        }
      ]
    },
    {
      "cell_type": "markdown",
      "source": [
        "6- Definir una función inversa() que calcule la inversión de una cadena. Por ejemplo la cadena\n",
        "\"estoy probando\" debería devolver la cadena \"odnaborp yotse\""
      ],
      "metadata": {
        "id": "5QGBZLkO__80"
      }
    },
    {
      "cell_type": "code",
      "source": [
        "def inversa(st):\n",
        "  return st[::-1]"
      ],
      "metadata": {
        "colab": {
          "base_uri": "https://localhost:8080/"
        },
        "id": "4LsS_zfqADuu",
        "outputId": "f95817cf-289d-401e-f386-6b9bf88f6703"
      },
      "execution_count": null,
      "outputs": [
        {
          "output_type": "stream",
          "name": "stdout",
          "text": [
            "odnaborp yotse\n"
          ]
        }
      ]
    },
    {
      "cell_type": "markdown",
      "source": [
        "7 - Definir una función es_palindromo() que reconoce palíndromos (es decir, palabras que tienen el\n",
        "mismo aspecto escritas invertidas), ejemplo: es_palindromo (\"radar\") tendría que devolver True."
      ],
      "metadata": {
        "id": "OGHlcZ8bAvy1"
      }
    },
    {
      "cell_type": "code",
      "source": [
        "def es_palindromo(word):\n",
        "  try:\n",
        "    if word==word[::-1]:\n",
        "      return True\n",
        "    else:\n",
        "      return False\n",
        "  except TypeError:\n",
        "    return 'La lista debe ser tipo string'"
      ],
      "metadata": {
        "colab": {
          "base_uri": "https://localhost:8080/"
        },
        "id": "1XRWhBf2AzhW",
        "outputId": "ea116ca1-d0eb-4981-ecdc-eddc695ba27d"
      },
      "execution_count": null,
      "outputs": [
        {
          "output_type": "stream",
          "name": "stdout",
          "text": [
            "La lista debe ser tipo string\n"
          ]
        }
      ]
    },
    {
      "cell_type": "markdown",
      "source": [
        "8- Definir una función superposicion() que tome dos listas y devuelva True si tienen al menos 1\n",
        "miembro en común o devuelva False de lo contrario. Escribir la función usando el bucle for\n",
        "anidado."
      ],
      "metadata": {
        "id": "xjNR_w6GF__g"
      }
    },
    {
      "cell_type": "code",
      "source": [
        "def superposicion(l1,l2):\n",
        "  acierto=False\n",
        "  for element_1 in l1:\n",
        "    if element_1 in l2:\n",
        "      acierto=True\n",
        "  return acierto"
      ],
      "metadata": {
        "colab": {
          "base_uri": "https://localhost:8080/"
        },
        "id": "S-X_UVZcGDwb",
        "outputId": "71c94187-e9b0-4d4e-ae9a-8fe1dfc259fb"
      },
      "execution_count": null,
      "outputs": [
        {
          "output_type": "stream",
          "name": "stdout",
          "text": [
            "True\n"
          ]
        }
      ]
    },
    {
      "cell_type": "markdown",
      "source": [
        "9- Definir una función generar_n_caracteres() que tome un entero n y devuelva el caracter\n",
        "multiplicado por n. Por ejemplo: generar_n_caracteres(5, \"x\") debería devolver \"xxxxx\".\n"
      ],
      "metadata": {
        "id": "KHedQwC-IJI8"
      }
    },
    {
      "cell_type": "code",
      "source": [
        "def generar_n_caracteres(n,c):\n",
        "  while type(n)==int and type(c)==str:\n",
        "    return n*c\n",
        "  return 'Debes introducir el primer argumento de tipo integer y el segundo de tipo string'"
      ],
      "metadata": {
        "colab": {
          "base_uri": "https://localhost:8080/"
        },
        "id": "S5WJLNNNIOaP",
        "outputId": "096960b9-b50c-4c80-ebd7-ad3472967f28"
      },
      "execution_count": null,
      "outputs": [
        {
          "output_type": "stream",
          "name": "stdout",
          "text": [
            "Debes introducir el primer argumento de tipo integer y el segundo de tipo string\n"
          ]
        }
      ]
    },
    {
      "cell_type": "markdown",
      "source": [
        "10- Definir un histograma procedimiento() que tome una lista de números enteros e imprima un\n",
        "histograma en la pantalla. Ejemplo: procedimiento([4, 9, 7]) debería imprimir lo siguiente:\n",
        "****\n",
        "*********\n",
        "*******"
      ],
      "metadata": {
        "id": "d8mmwTbRJ0Oq"
      }
    },
    {
      "cell_type": "code",
      "source": [
        "def procedimiento(l):\n",
        "  x='x'\n",
        "  for i in l:\n",
        "    print(f'{i*x}')"
      ],
      "metadata": {
        "colab": {
          "base_uri": "https://localhost:8080/"
        },
        "id": "PcLSnAaCJRMS",
        "outputId": "562eab7a-f5a1-4cc6-bb4b-a54d28d96407"
      },
      "execution_count": null,
      "outputs": [
        {
          "output_type": "stream",
          "name": "stdout",
          "text": [
            "xxxx\n",
            "xxxxxxxxx\n",
            "xxxxxxx\n"
          ]
        }
      ]
    }
  ]
}